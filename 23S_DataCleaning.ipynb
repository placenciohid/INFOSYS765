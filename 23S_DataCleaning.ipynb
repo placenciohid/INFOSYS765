{
  "nbformat": 4,
  "nbformat_minor": 0,
  "metadata": {
    "colab": {
      "name": "22S_DataCleaning.ipynb",
      "provenance": [],
      "collapsed_sections": []
    },
    "kernelspec": {
      "name": "python3",
      "display_name": "Python 3"
    },
    "language_info": {
      "name": "python"
    }
  },
  "cells": [
    {
      "cell_type": "markdown",
      "source": [
        "# How to clean data"
      ],
      "metadata": {
        "id": "wIq9FyKfzMGE"
      }
    },
    {
      "cell_type": "markdown",
      "source": [
        "Data cleaning is a crucial step in the data science pipeline as the insights and results you produce is only as good as the data you have. As the old adage goes — garbage in, garbage out.\n",
        "\n",
        "Using dirty data to produce analysis will result in erroneous predictions that engenders bad decisions and dangerous outcomes. Not only that, most machine learning algorithms only work when your data is properly cleaned and fit for modeling."
      ],
      "metadata": {
        "id": "ZkrWzasEzg3T"
      }
    },
    {
      "cell_type": "markdown",
      "source": [
        "Here, we will be using the New York City Airbnb Open Data to perform data cleaning while focusing on following factors:\n",
        "\n",
        "1. Missing data\n",
        "2. Inconsistent data\n",
        "3. Duplicate data\n",
        "4. Irrelevant data\n",
        "5. Outliers"
      ],
      "metadata": {
        "id": "C75FbMDtzsGG"
      }
    },
    {
      "cell_type": "markdown",
      "source": [
        "## Importing Libraries"
      ],
      "metadata": {
        "id": "CYAQuTxt0OJS"
      }
    },
    {
      "cell_type": "markdown",
      "source": [
        "First we start by importing the necessary libraries for data cleaning."
      ],
      "metadata": {
        "id": "FyzDccJy0UvI"
      }
    },
    {
      "cell_type": "code",
      "source": [
        "import pandas as pd\n",
        "import numpy as np\n",
        "import matplotlib.pyplot as plt"
      ],
      "metadata": {
        "id": "vFklVfZa0VPE"
      },
      "execution_count": 2,
      "outputs": []
    },
    {
      "cell_type": "markdown",
      "source": [
        "## Load the data"
      ],
      "metadata": {
        "id": "BIUOFdt90gcc"
      }
    },
    {
      "cell_type": "markdown",
      "source": [
        "Now we can upload the csv file and import that data using pd.read_csv()\n",
        "Here, we will first get the copy of the original dataset using .copy(). It’s a good practice to copy the data set when you want to test something out so you won’t have to re-run the entire notebook if you make a mistake somewhere.\n"
      ],
      "metadata": {
        "id": "A-fBZQlL0zIX"
      }
    },
    {
      "cell_type": "code",
      "source": [
        "airbnb_url = 'https://raw.githubusercontent.com/ManarOmar/New-York-Airbnb-2019/master/AB_NYC_2019.csv'\n",
        "\n",
        "airbnb_ori = pd.read_csv(airbnb_url)\n",
        "airbnb = airbnb_ori.copy()"
      ],
      "metadata": {
        "id": "y3XryxIU1GkM"
      },
      "execution_count": 3,
      "outputs": []
    },
    {
      "cell_type": "markdown",
      "source": [
        "## Data info"
      ],
      "metadata": {
        "id": "NJDoK-Tb1zR8"
      }
    },
    {
      "cell_type": "markdown",
      "source": [
        "Calling info() on our dataset tells us tons of information about our data frame like the shape (rows, columns), the data type of our features, and the memory usage."
      ],
      "metadata": {
        "id": "-FCC8Eut11Te"
      }
    },
    {
      "cell_type": "code",
      "source": [
        "airbnb.info()"
      ],
      "metadata": {
        "colab": {
          "base_uri": "https://localhost:8080/"
        },
        "id": "RlBi-vlF1t2U",
        "outputId": "f6c512a7-b994-40e6-d987-6c18668a9cbb"
      },
      "execution_count": 4,
      "outputs": [
        {
          "output_type": "stream",
          "name": "stdout",
          "text": [
            "<class 'pandas.core.frame.DataFrame'>\n",
            "RangeIndex: 48895 entries, 0 to 48894\n",
            "Data columns (total 16 columns):\n",
            " #   Column                          Non-Null Count  Dtype  \n",
            "---  ------                          --------------  -----  \n",
            " 0   id                              48895 non-null  int64  \n",
            " 1   name                            48879 non-null  object \n",
            " 2   host_id                         48895 non-null  int64  \n",
            " 3   host_name                       48874 non-null  object \n",
            " 4   neighbourhood_group             48895 non-null  object \n",
            " 5   neighbourhood                   48895 non-null  object \n",
            " 6   latitude                        48895 non-null  float64\n",
            " 7   longitude                       48895 non-null  float64\n",
            " 8   room_type                       48895 non-null  object \n",
            " 9   price                           48895 non-null  int64  \n",
            " 10  minimum_nights                  48895 non-null  int64  \n",
            " 11  number_of_reviews               48895 non-null  int64  \n",
            " 12  last_review                     38843 non-null  object \n",
            " 13  reviews_per_month               38843 non-null  float64\n",
            " 14  calculated_host_listings_count  48895 non-null  int64  \n",
            " 15  availability_365                48895 non-null  int64  \n",
            "dtypes: float64(3), int64(7), object(6)\n",
            "memory usage: 6.0+ MB\n"
          ]
        }
      ]
    },
    {
      "cell_type": "markdown",
      "source": [
        "Use head() to preview the data"
      ],
      "metadata": {
        "id": "IqshFkkDqINq"
      }
    },
    {
      "cell_type": "code",
      "source": [
        "airbnb.head()"
      ],
      "metadata": {
        "colab": {
          "base_uri": "https://localhost:8080/",
          "height": 461
        },
        "id": "UJsI5xdqqFrc",
        "outputId": "d0476286-0907-4d39-d9f2-17f1d978eaef"
      },
      "execution_count": 5,
      "outputs": [
        {
          "output_type": "execute_result",
          "data": {
            "text/html": [
              "\n",
              "  <div id=\"df-3634645b-e90b-43ec-b9d2-e87e1cdbd086\">\n",
              "    <div class=\"colab-df-container\">\n",
              "      <div>\n",
              "<style scoped>\n",
              "    .dataframe tbody tr th:only-of-type {\n",
              "        vertical-align: middle;\n",
              "    }\n",
              "\n",
              "    .dataframe tbody tr th {\n",
              "        vertical-align: top;\n",
              "    }\n",
              "\n",
              "    .dataframe thead th {\n",
              "        text-align: right;\n",
              "    }\n",
              "</style>\n",
              "<table border=\"1\" class=\"dataframe\">\n",
              "  <thead>\n",
              "    <tr style=\"text-align: right;\">\n",
              "      <th></th>\n",
              "      <th>id</th>\n",
              "      <th>name</th>\n",
              "      <th>host_id</th>\n",
              "      <th>host_name</th>\n",
              "      <th>neighbourhood_group</th>\n",
              "      <th>neighbourhood</th>\n",
              "      <th>latitude</th>\n",
              "      <th>longitude</th>\n",
              "      <th>room_type</th>\n",
              "      <th>price</th>\n",
              "      <th>minimum_nights</th>\n",
              "      <th>number_of_reviews</th>\n",
              "      <th>last_review</th>\n",
              "      <th>reviews_per_month</th>\n",
              "      <th>calculated_host_listings_count</th>\n",
              "      <th>availability_365</th>\n",
              "    </tr>\n",
              "  </thead>\n",
              "  <tbody>\n",
              "    <tr>\n",
              "      <th>0</th>\n",
              "      <td>2539</td>\n",
              "      <td>Clean &amp; quiet apt home by the park</td>\n",
              "      <td>2787</td>\n",
              "      <td>John</td>\n",
              "      <td>Brooklyn</td>\n",
              "      <td>Kensington</td>\n",
              "      <td>40.64749</td>\n",
              "      <td>-73.97237</td>\n",
              "      <td>Private room</td>\n",
              "      <td>149</td>\n",
              "      <td>1</td>\n",
              "      <td>9</td>\n",
              "      <td>2018-10-19</td>\n",
              "      <td>0.21</td>\n",
              "      <td>6</td>\n",
              "      <td>365</td>\n",
              "    </tr>\n",
              "    <tr>\n",
              "      <th>1</th>\n",
              "      <td>2595</td>\n",
              "      <td>Skylit Midtown Castle</td>\n",
              "      <td>2845</td>\n",
              "      <td>Jennifer</td>\n",
              "      <td>Manhattan</td>\n",
              "      <td>Midtown</td>\n",
              "      <td>40.75362</td>\n",
              "      <td>-73.98377</td>\n",
              "      <td>Entire home/apt</td>\n",
              "      <td>225</td>\n",
              "      <td>1</td>\n",
              "      <td>45</td>\n",
              "      <td>2019-05-21</td>\n",
              "      <td>0.38</td>\n",
              "      <td>2</td>\n",
              "      <td>355</td>\n",
              "    </tr>\n",
              "    <tr>\n",
              "      <th>2</th>\n",
              "      <td>3647</td>\n",
              "      <td>THE VILLAGE OF HARLEM....NEW YORK !</td>\n",
              "      <td>4632</td>\n",
              "      <td>Elisabeth</td>\n",
              "      <td>Manhattan</td>\n",
              "      <td>Harlem</td>\n",
              "      <td>40.80902</td>\n",
              "      <td>-73.94190</td>\n",
              "      <td>Private room</td>\n",
              "      <td>150</td>\n",
              "      <td>3</td>\n",
              "      <td>0</td>\n",
              "      <td>NaN</td>\n",
              "      <td>NaN</td>\n",
              "      <td>1</td>\n",
              "      <td>365</td>\n",
              "    </tr>\n",
              "    <tr>\n",
              "      <th>3</th>\n",
              "      <td>3831</td>\n",
              "      <td>Cozy Entire Floor of Brownstone</td>\n",
              "      <td>4869</td>\n",
              "      <td>LisaRoxanne</td>\n",
              "      <td>Brooklyn</td>\n",
              "      <td>Clinton Hill</td>\n",
              "      <td>40.68514</td>\n",
              "      <td>-73.95976</td>\n",
              "      <td>Entire home/apt</td>\n",
              "      <td>89</td>\n",
              "      <td>1</td>\n",
              "      <td>270</td>\n",
              "      <td>2019-07-05</td>\n",
              "      <td>4.64</td>\n",
              "      <td>1</td>\n",
              "      <td>194</td>\n",
              "    </tr>\n",
              "    <tr>\n",
              "      <th>4</th>\n",
              "      <td>5022</td>\n",
              "      <td>Entire Apt: Spacious Studio/Loft by central park</td>\n",
              "      <td>7192</td>\n",
              "      <td>Laura</td>\n",
              "      <td>Manhattan</td>\n",
              "      <td>East Harlem</td>\n",
              "      <td>40.79851</td>\n",
              "      <td>-73.94399</td>\n",
              "      <td>Entire home/apt</td>\n",
              "      <td>80</td>\n",
              "      <td>10</td>\n",
              "      <td>9</td>\n",
              "      <td>2018-11-19</td>\n",
              "      <td>0.10</td>\n",
              "      <td>1</td>\n",
              "      <td>0</td>\n",
              "    </tr>\n",
              "  </tbody>\n",
              "</table>\n",
              "</div>\n",
              "      <button class=\"colab-df-convert\" onclick=\"convertToInteractive('df-3634645b-e90b-43ec-b9d2-e87e1cdbd086')\"\n",
              "              title=\"Convert this dataframe to an interactive table.\"\n",
              "              style=\"display:none;\">\n",
              "        \n",
              "  <svg xmlns=\"http://www.w3.org/2000/svg\" height=\"24px\"viewBox=\"0 0 24 24\"\n",
              "       width=\"24px\">\n",
              "    <path d=\"M0 0h24v24H0V0z\" fill=\"none\"/>\n",
              "    <path d=\"M18.56 5.44l.94 2.06.94-2.06 2.06-.94-2.06-.94-.94-2.06-.94 2.06-2.06.94zm-11 1L8.5 8.5l.94-2.06 2.06-.94-2.06-.94L8.5 2.5l-.94 2.06-2.06.94zm10 10l.94 2.06.94-2.06 2.06-.94-2.06-.94-.94-2.06-.94 2.06-2.06.94z\"/><path d=\"M17.41 7.96l-1.37-1.37c-.4-.4-.92-.59-1.43-.59-.52 0-1.04.2-1.43.59L10.3 9.45l-7.72 7.72c-.78.78-.78 2.05 0 2.83L4 21.41c.39.39.9.59 1.41.59.51 0 1.02-.2 1.41-.59l7.78-7.78 2.81-2.81c.8-.78.8-2.07 0-2.86zM5.41 20L4 18.59l7.72-7.72 1.47 1.35L5.41 20z\"/>\n",
              "  </svg>\n",
              "      </button>\n",
              "      \n",
              "  <style>\n",
              "    .colab-df-container {\n",
              "      display:flex;\n",
              "      flex-wrap:wrap;\n",
              "      gap: 12px;\n",
              "    }\n",
              "\n",
              "    .colab-df-convert {\n",
              "      background-color: #E8F0FE;\n",
              "      border: none;\n",
              "      border-radius: 50%;\n",
              "      cursor: pointer;\n",
              "      display: none;\n",
              "      fill: #1967D2;\n",
              "      height: 32px;\n",
              "      padding: 0 0 0 0;\n",
              "      width: 32px;\n",
              "    }\n",
              "\n",
              "    .colab-df-convert:hover {\n",
              "      background-color: #E2EBFA;\n",
              "      box-shadow: 0px 1px 2px rgba(60, 64, 67, 0.3), 0px 1px 3px 1px rgba(60, 64, 67, 0.15);\n",
              "      fill: #174EA6;\n",
              "    }\n",
              "\n",
              "    [theme=dark] .colab-df-convert {\n",
              "      background-color: #3B4455;\n",
              "      fill: #D2E3FC;\n",
              "    }\n",
              "\n",
              "    [theme=dark] .colab-df-convert:hover {\n",
              "      background-color: #434B5C;\n",
              "      box-shadow: 0px 1px 3px 1px rgba(0, 0, 0, 0.15);\n",
              "      filter: drop-shadow(0px 1px 2px rgba(0, 0, 0, 0.3));\n",
              "      fill: #FFFFFF;\n",
              "    }\n",
              "  </style>\n",
              "\n",
              "      <script>\n",
              "        const buttonEl =\n",
              "          document.querySelector('#df-3634645b-e90b-43ec-b9d2-e87e1cdbd086 button.colab-df-convert');\n",
              "        buttonEl.style.display =\n",
              "          google.colab.kernel.accessAllowed ? 'block' : 'none';\n",
              "\n",
              "        async function convertToInteractive(key) {\n",
              "          const element = document.querySelector('#df-3634645b-e90b-43ec-b9d2-e87e1cdbd086');\n",
              "          const dataTable =\n",
              "            await google.colab.kernel.invokeFunction('convertToInteractive',\n",
              "                                                     [key], {});\n",
              "          if (!dataTable) return;\n",
              "\n",
              "          const docLinkHtml = 'Like what you see? Visit the ' +\n",
              "            '<a target=\"_blank\" href=https://colab.research.google.com/notebooks/data_table.ipynb>data table notebook</a>'\n",
              "            + ' to learn more about interactive tables.';\n",
              "          element.innerHTML = '';\n",
              "          dataTable['output_type'] = 'display_data';\n",
              "          await google.colab.output.renderOutput(dataTable, element);\n",
              "          const docLink = document.createElement('div');\n",
              "          docLink.innerHTML = docLinkHtml;\n",
              "          element.appendChild(docLink);\n",
              "        }\n",
              "      </script>\n",
              "    </div>\n",
              "  </div>\n",
              "  "
            ],
            "text/plain": [
              "     id  ... availability_365\n",
              "0  2539  ...              365\n",
              "1  2595  ...              355\n",
              "2  3647  ...              365\n",
              "3  3831  ...              194\n",
              "4  5022  ...                0\n",
              "\n",
              "[5 rows x 16 columns]"
            ]
          },
          "metadata": {},
          "execution_count": 5
        }
      ]
    },
    {
      "cell_type": "markdown",
      "source": [
        "## Missing Data"
      ],
      "metadata": {
        "id": "g5z8sGmV2f-H"
      }
    },
    {
      "cell_type": "markdown",
      "source": [
        "Now we have some idea of our data, we can move on to cleaning it by first checking for missing values."
      ],
      "metadata": {
        "id": "UgGV0C8I2kOg"
      }
    },
    {
      "cell_type": "markdown",
      "source": [
        "The two common methods to deal with missing values are\n",
        "\n",
        "1. Omission: dropping the rows / columns\n",
        "2. Imputation: imputing missing value based on other observations i.e. the mean or median."
      ],
      "metadata": {
        "id": "oQLtundt23FR"
      }
    },
    {
      "cell_type": "markdown",
      "source": [
        "### Columns with missing values"
      ],
      "metadata": {
        "id": "4k0ePaAj3U6t"
      }
    },
    {
      "cell_type": "markdown",
      "source": [
        "If you want to see missing values for all columns, use this command:"
      ],
      "metadata": {
        "id": "kCpccgjb3aq1"
      }
    },
    {
      "cell_type": "code",
      "source": [
        "airbnb.isnull().sum()"
      ],
      "metadata": {
        "colab": {
          "base_uri": "https://localhost:8080/"
        },
        "id": "GSeaOI952O4N",
        "outputId": "8b6159dd-9eb0-48e8-d845-187a4a35b6b9"
      },
      "execution_count": 6,
      "outputs": [
        {
          "output_type": "execute_result",
          "data": {
            "text/plain": [
              "id                                    0\n",
              "name                                 16\n",
              "host_id                               0\n",
              "host_name                            21\n",
              "neighbourhood_group                   0\n",
              "neighbourhood                         0\n",
              "latitude                              0\n",
              "longitude                             0\n",
              "room_type                             0\n",
              "price                                 0\n",
              "minimum_nights                        0\n",
              "number_of_reviews                     0\n",
              "last_review                       10052\n",
              "reviews_per_month                 10052\n",
              "calculated_host_listings_count        0\n",
              "availability_365                      0\n",
              "dtype: int64"
            ]
          },
          "metadata": {},
          "execution_count": 6
        }
      ]
    },
    {
      "cell_type": "markdown",
      "source": [
        "As we can see above, columns like `name`, `host_name`, `last_review`, `reviews_per_month` have some missing values."
      ],
      "metadata": {
        "id": "lNToon-43wNg"
      }
    },
    {
      "cell_type": "markdown",
      "source": [
        "## Technique to deal with missing values"
      ],
      "metadata": {
        "id": "EZ_Ygwgx4YqU"
      }
    },
    {
      "cell_type": "markdown",
      "source": [
        "1. Drop the feature with missing values\n",
        "2. Drop the row with missing values\n",
        "3. Impute the missing values with some statistics\n",
        "4. Replace missing values with other choices"
      ],
      "metadata": {
        "id": "i-2m44lM4arQ"
      }
    },
    {
      "cell_type": "markdown",
      "source": [
        "### Dropping the variable/column"
      ],
      "metadata": {
        "id": "E1kIUxnm4lkM"
      }
    },
    {
      "cell_type": "markdown",
      "source": [
        "Dropping feature usually isn’t recommended because you’re losing information. But if you’re sure that the column isn’t important, or simply has too many missing values, you can choose to drop them. For example, for this dataset, the host_name column was removed for ethical reasons, and id was removed because it was was unnecessary.\n",
        "\n",
        "To drop features, use drop and set axis to 1 and inplace to true. Axis is 1 because we want to drop columns (0 means row), and inplace is True because you're transforming it directly on your dataset."
      ],
      "metadata": {
        "id": "cjKkGD_Q4pGl"
      }
    },
    {
      "cell_type": "code",
      "source": [
        "# Drop unnecessary columns that are not important\n",
        "colsToDrop = ['id','host_name','last_review']\n",
        "\n",
        "airbnb.drop(colsToDrop, axis=1, inplace=True)"
      ],
      "metadata": {
        "id": "pR1rPbVY3jfK"
      },
      "execution_count": 7,
      "outputs": []
    },
    {
      "cell_type": "markdown",
      "source": [
        "## Dropping the row"
      ],
      "metadata": {
        "id": "6wBJSPNG9Y59"
      }
    },
    {
      "cell_type": "markdown",
      "source": [
        "If you want to remove rows, you do so using dropna. We can do this on columns with NA values."
      ],
      "metadata": {
        "id": "bx2zU_2E9awX"
      }
    },
    {
      "cell_type": "code",
      "source": [
        "airbnb.isna().sum()"
      ],
      "metadata": {
        "colab": {
          "base_uri": "https://localhost:8080/"
        },
        "id": "pF1O4QNt9Zuv",
        "outputId": "b97de82e-4bbd-4359-e5b3-f971ab2289e6"
      },
      "execution_count": 8,
      "outputs": [
        {
          "output_type": "execute_result",
          "data": {
            "text/plain": [
              "name                                 16\n",
              "host_id                               0\n",
              "neighbourhood_group                   0\n",
              "neighbourhood                         0\n",
              "latitude                              0\n",
              "longitude                             0\n",
              "room_type                             0\n",
              "price                                 0\n",
              "minimum_nights                        0\n",
              "number_of_reviews                     0\n",
              "reviews_per_month                 10052\n",
              "calculated_host_listings_count        0\n",
              "availability_365                      0\n",
              "dtype: int64"
            ]
          },
          "metadata": {},
          "execution_count": 8
        }
      ]
    },
    {
      "cell_type": "markdown",
      "source": [
        "We can remove rows with NA values in `name` and `reviews_per_month`"
      ],
      "metadata": {
        "id": "RnRL9APi9u55"
      }
    },
    {
      "cell_type": "code",
      "source": [
        "airbnb_filtered = airbnb.dropna(subset=['name', 'reviews_per_month'])"
      ],
      "metadata": {
        "id": "Mu5_DdOh9_Cg"
      },
      "execution_count": 9,
      "outputs": []
    },
    {
      "cell_type": "markdown",
      "source": [
        "Now, we can again check to see if there are any NA/missing values in the dataframe."
      ],
      "metadata": {
        "id": "iNiqonqs_7bm"
      }
    },
    {
      "cell_type": "code",
      "source": [
        "airbnb_filtered.isna().sum()"
      ],
      "metadata": {
        "colab": {
          "base_uri": "https://localhost:8080/"
        },
        "id": "cOoz2a3r-Fov",
        "outputId": "e1d74b88-89c1-4455-bce3-985f9ffab3e0"
      },
      "execution_count": 10,
      "outputs": [
        {
          "output_type": "execute_result",
          "data": {
            "text/plain": [
              "name                              0\n",
              "host_id                           0\n",
              "neighbourhood_group               0\n",
              "neighbourhood                     0\n",
              "latitude                          0\n",
              "longitude                         0\n",
              "room_type                         0\n",
              "price                             0\n",
              "minimum_nights                    0\n",
              "number_of_reviews                 0\n",
              "reviews_per_month                 0\n",
              "calculated_host_listings_count    0\n",
              "availability_365                  0\n",
              "dtype: int64"
            ]
          },
          "metadata": {},
          "execution_count": 10
        }
      ]
    },
    {
      "cell_type": "markdown",
      "source": [
        "However, if we want to remove all rows in a dataframe, whose all values are missing, we can just do: airbnb.dropna()\n",
        "\n",
        "To read more about this function, check out https://thispointer.com/pandas-drop-rows-from-a-dataframe-with-missing-values-or-nan-in-columns/"
      ],
      "metadata": {
        "id": "0QX89XI5AFdC"
      }
    },
    {
      "cell_type": "markdown",
      "source": [
        "## Imputing missing values with the mean"
      ],
      "metadata": {
        "id": "BYJCTFDrAtHf"
      }
    },
    {
      "cell_type": "markdown",
      "source": [
        "We can perform imputing by using one of the techniques called `fillna`.\n",
        "\n",
        "fillna — filling in null values based on given value (mean, median, mode, or specified value)"
      ],
      "metadata": {
        "id": "-H5RZ1nXAu6E"
      }
    },
    {
      "cell_type": "code",
      "source": [
        "# imputing price with mean\n",
        "price_mean_value = round(airbnb['price'].mean(), 2)\n",
        "airbnb['price'].fillna(price_mean_value, inplace=True)"
      ],
      "metadata": {
        "id": "7Z8xL7jQ-H5A"
      },
      "execution_count": 11,
      "outputs": []
    },
    {
      "cell_type": "markdown",
      "source": [
        "## Replace missing values with others"
      ],
      "metadata": {
        "id": "55M1YfW3CCyv"
      }
    },
    {
      "cell_type": "markdown",
      "source": [
        "To replace values, the fillna function is also used.\n",
        "\n",
        "You define the value you want to replace in the key, and the substitute in the value — {column_name: replacement_for_NA}\n",
        "\n",
        "Here are examples for replacing values in the columns reviews_per_month and name"
      ],
      "metadata": {
        "id": "UMAZhWbPCCoD"
      }
    },
    {
      "cell_type": "code",
      "source": [
        "# replace null values in reviews_per_month with 0 \n",
        "airbnb.fillna({'reviews_per_month':0}, inplace=True)\n",
        "\n",
        "airbnb.isna().sum()"
      ],
      "metadata": {
        "colab": {
          "base_uri": "https://localhost:8080/"
        },
        "id": "Z0pSD2ebCPdp",
        "outputId": "27ad044b-6c12-43e8-e800-a635659e85ed"
      },
      "execution_count": 12,
      "outputs": [
        {
          "output_type": "execute_result",
          "data": {
            "text/plain": [
              "name                              16\n",
              "host_id                            0\n",
              "neighbourhood_group                0\n",
              "neighbourhood                      0\n",
              "latitude                           0\n",
              "longitude                          0\n",
              "room_type                          0\n",
              "price                              0\n",
              "minimum_nights                     0\n",
              "number_of_reviews                  0\n",
              "reviews_per_month                  0\n",
              "calculated_host_listings_count     0\n",
              "availability_365                   0\n",
              "dtype: int64"
            ]
          },
          "metadata": {},
          "execution_count": 12
        }
      ]
    },
    {
      "cell_type": "markdown",
      "source": [
        "As we can see, we only have `name` column with NA values."
      ],
      "metadata": {
        "id": "qg6Xk8ULCibS"
      }
    },
    {
      "cell_type": "code",
      "source": [
        "# replace null values in name with 'None'\n",
        "airbnb.fillna({'name':'None'}, inplace=True)"
      ],
      "metadata": {
        "id": "kvD7ZOSbCVpa"
      },
      "execution_count": 13,
      "outputs": []
    },
    {
      "cell_type": "code",
      "source": [
        "airbnb.isna().sum()"
      ],
      "metadata": {
        "colab": {
          "base_uri": "https://localhost:8080/"
        },
        "id": "fMjnXViXCqP7",
        "outputId": "1aae0a3f-3136-4513-e401-1db465ad0718"
      },
      "execution_count": 14,
      "outputs": [
        {
          "output_type": "execute_result",
          "data": {
            "text/plain": [
              "name                              0\n",
              "host_id                           0\n",
              "neighbourhood_group               0\n",
              "neighbourhood                     0\n",
              "latitude                          0\n",
              "longitude                         0\n",
              "room_type                         0\n",
              "price                             0\n",
              "minimum_nights                    0\n",
              "number_of_reviews                 0\n",
              "reviews_per_month                 0\n",
              "calculated_host_listings_count    0\n",
              "availability_365                  0\n",
              "dtype: int64"
            ]
          },
          "metadata": {},
          "execution_count": 14
        }
      ]
    },
    {
      "cell_type": "markdown",
      "source": [
        "We've successfully removed all the NA values from the data frame!"
      ],
      "metadata": {
        "id": "7FO0hW_SCsX9"
      }
    },
    {
      "cell_type": "markdown",
      "source": [
        "# Inconsistent data\n",
        "Inconsistent data refers to things like spelling errors in your data, the wrong data type, etc."
      ],
      "metadata": {
        "id": "TrQMQKvJC0PC"
      }
    },
    {
      "cell_type": "markdown",
      "source": [
        "## Spelling errors in categorical data"
      ],
      "metadata": {
        "id": "BG4oPLtLDvCn"
      }
    },
    {
      "cell_type": "markdown",
      "source": [
        "Sometimes your categorical data might have spelling errors or different capitalization that can mess up your categorization.\n",
        "Let's look at the neighbourhood_group column as an example."
      ],
      "metadata": {
        "id": "axeblP2xDyu6"
      }
    },
    {
      "cell_type": "code",
      "source": [
        "airbnb['neighbourhood_group'].value_counts()"
      ],
      "metadata": {
        "colab": {
          "base_uri": "https://localhost:8080/"
        },
        "id": "T2d0YtKYDuB0",
        "outputId": "22e87158-9af0-4995-b803-3bb780c098e5"
      },
      "execution_count": 15,
      "outputs": [
        {
          "output_type": "execute_result",
          "data": {
            "text/plain": [
              "Manhattan        21661\n",
              "Brooklyn         20104\n",
              "Queens            5666\n",
              "Bronx             1091\n",
              "Staten Island      373\n",
              "Name: neighbourhood_group, dtype: int64"
            ]
          },
          "metadata": {},
          "execution_count": 15
        }
      ]
    },
    {
      "cell_type": "markdown",
      "source": [
        "You can see now how the categorization is messed up. “Manhattan” and “manhatann” refer to the same thing, but they aren’t in the same category because of capitalization. Same goes for “brookln” due to spelling issues.\n",
        "\n",
        "We can fix this by using the replace function in pandas. We first give the values that are wrong, then supply the right ones. Notice the values have to match each other in the list, i.e. “manhatann” → “Manhattan”."
      ],
      "metadata": {
        "id": "e3lIR2grD9D9"
      }
    },
    {
      "cell_type": "code",
      "source": [
        "random_index = airbnb.sample(2, random_state = 10).index\n",
        "\n",
        "## we randomly selected Manhattan and Brooklyn\n",
        "\n",
        "wrong_spelling = ['manhatann', 'brookln']\n",
        "\n",
        "# replace them with the wrong spelling\n",
        "airbnb.loc[random_index,'neighbourhood_group'] = wrong_spelling\n",
        "airbnb['neighbourhood_group'].value_counts()\n"
      ],
      "metadata": {
        "colab": {
          "base_uri": "https://localhost:8080/"
        },
        "id": "DyWBlbg5D7ok",
        "outputId": "0d86b164-9270-4c37-ae0d-554a518c480d"
      },
      "execution_count": 16,
      "outputs": [
        {
          "output_type": "execute_result",
          "data": {
            "text/plain": [
              "Manhattan        21660\n",
              "Brooklyn         20103\n",
              "Queens            5666\n",
              "Bronx             1091\n",
              "Staten Island      373\n",
              "brookln              1\n",
              "manhatann            1\n",
              "Name: neighbourhood_group, dtype: int64"
            ]
          },
          "metadata": {},
          "execution_count": 16
        }
      ]
    },
    {
      "cell_type": "code",
      "source": [
        "airbnb['neighbourhood_group'].replace(['manhatann', 'brookln'],\n",
        "                             ['Manhattan', 'Brooklyn'], inplace=True)\n",
        "airbnb['neighbourhood_group'].value_counts()"
      ],
      "metadata": {
        "colab": {
          "base_uri": "https://localhost:8080/"
        },
        "id": "g4NffYDbEF3F",
        "outputId": "b63c7246-82a7-4b33-c00f-ea58008d9e1f"
      },
      "execution_count": 17,
      "outputs": [
        {
          "output_type": "execute_result",
          "data": {
            "text/plain": [
              "Manhattan        21661\n",
              "Brooklyn         20104\n",
              "Queens            5666\n",
              "Bronx             1091\n",
              "Staten Island      373\n",
              "Name: neighbourhood_group, dtype: int64"
            ]
          },
          "metadata": {},
          "execution_count": 17
        }
      ]
    },
    {
      "cell_type": "markdown",
      "source": [
        "# Duplicates\n",
        "There are cases where your rows have duplicate values, this could’ve happened due to some mishaps in your data collection.\n",
        "To find out if you have duplicated values, call duplicated().any() on your data frame, and if it’s true, use the drop_duplicates function\n",
        "You can also specify columns where you want to remove duplicate values like below."
      ],
      "metadata": {
        "id": "VJqHkltXEwA4"
      }
    },
    {
      "cell_type": "code",
      "source": [
        "airbnb.duplicated().any()\n",
        "\n",
        "## if true\n",
        "# airbnb.drop_duplicates()\n",
        "\n",
        "## if you want to drop duplicates at specific column\n",
        "# airbnb.drop('col_name', axis=1, inplace=True).drop_duplicates()"
      ],
      "metadata": {
        "colab": {
          "base_uri": "https://localhost:8080/"
        },
        "id": "StKlCYHiEq51",
        "outputId": "5a59fe37-19b4-4664-e1d6-3ea5176b55de"
      },
      "execution_count": 18,
      "outputs": [
        {
          "output_type": "execute_result",
          "data": {
            "text/plain": [
              "False"
            ]
          },
          "metadata": {},
          "execution_count": 18
        }
      ]
    },
    {
      "cell_type": "markdown",
      "source": [
        "## Irrelevant Data\n",
        "If it is an irrelevant variable, we need to drop that variable. Refer to the 'drop the column' example in Missing Data section.\n",
        "\n",
        "If it is an irrelevant row, we need to drop that variable. Refer to the 'drop the row' example in Missing Data section.\n"
      ],
      "metadata": {
        "id": "rebTBX2l2PPn"
      }
    },
    {
      "cell_type": "markdown",
      "source": [
        "# Outliers\n",
        "\n",
        "Outliers can be dangerous as they can skew your model and give you predictions that are biased and erroneous.\n",
        "The best way to find outliers is to use the describe function and look at information such as maximum and mean."
      ],
      "metadata": {
        "id": "sJ-wivpvFLMc"
      }
    },
    {
      "cell_type": "code",
      "source": [
        "airbnb['price'].describe()"
      ],
      "metadata": {
        "colab": {
          "base_uri": "https://localhost:8080/"
        },
        "id": "lYV7b3OeE39H",
        "outputId": "af1edfc8-e1b9-41cb-8b91-b10f06f2165b"
      },
      "execution_count": 19,
      "outputs": [
        {
          "output_type": "execute_result",
          "data": {
            "text/plain": [
              "count    48895.000000\n",
              "mean       152.720687\n",
              "std        240.154170\n",
              "min          0.000000\n",
              "25%         69.000000\n",
              "50%        106.000000\n",
              "75%        175.000000\n",
              "max      10000.000000\n",
              "Name: price, dtype: float64"
            ]
          },
          "metadata": {},
          "execution_count": 19
        }
      ]
    },
    {
      "cell_type": "markdown",
      "source": [
        "You can also plot a histogram and look at the distribution of your data.\n",
        "In this histogram, you can see that most of the data is around 0 to 5000."
      ],
      "metadata": {
        "id": "2zYdQFbiFhzo"
      }
    },
    {
      "cell_type": "code",
      "source": [
        "plt.figure(figsize=(10, 6))\n",
        "airbnb['price'].hist(bins=100)"
      ],
      "metadata": {
        "colab": {
          "base_uri": "https://localhost:8080/",
          "height": 391
        },
        "id": "_lNo2CH6FWAA",
        "outputId": "c3a1fb50-e355-473d-8e85-9369ca918346"
      },
      "execution_count": 20,
      "outputs": [
        {
          "output_type": "execute_result",
          "data": {
            "text/plain": [
              "<matplotlib.axes._subplots.AxesSubplot at 0x7f50781f3810>"
            ]
          },
          "metadata": {},
          "execution_count": 20
        },
        {
          "output_type": "display_data",
          "data": {
            "image/png": "[encoded data removed]",
            "text/plain": [
              "<Figure size 720x432 with 1 Axes>"
            ]
          },
          "metadata": {
            "needs_background": "light"
          }
        }
      ]
    },
    {
      "cell_type": "markdown",
      "source": [
        "As we can see above, there are many outliers in `price` column.\n",
        "\n",
        "There are outliers in `neighborhood_group` too. Manhattan and Brooklyn has significantly more data than Staten Island. This doesn’t count as an outlier, since Manhattan and Brooklyn has a higher housing density as compared to Staten Island."
      ],
      "metadata": {
        "id": "AKCPiThwFx8A"
      }
    },
    {
      "cell_type": "markdown",
      "source": [
        "## Identify Outliers Using Interquartile Range Method\n",
        "The IQR is calculated as the difference between the 75th and the 25th percentiles of the data and defines the box in a box and whisker plot.\n",
        "\n",
        "We can calculate the percentiles of a dataset using the percentile() NumPy function that takes the dataset and specification of the desired percentile. The IQR can then be calculated as the difference between the 75th and 25th percentiles.\n"
      ],
      "metadata": {
        "id": "aDWs5pxSvyQ5"
      }
    },
    {
      "cell_type": "code",
      "source": [
        "# calculate interquartile range\n",
        "q25, q75 = np.percentile(airbnb['price'], 25), np.percentile(airbnb['price'], 75)\n",
        "iqr = q75 - q25\n",
        "\n",
        "# calculate the outlier cutoff\n",
        "cut_off = iqr * 1.5\n",
        "lower, upper = q25 - cut_off, q75 + cut_off\n",
        "\n",
        "# identify outliers\n",
        "outliers = [data for data in airbnb['price'] if data < lower or data > upper]"
      ],
      "metadata": {
        "id": "6xC1AYYZv8zR"
      },
      "execution_count": 21,
      "outputs": []
    },
    {
      "cell_type": "markdown",
      "source": [
        "## Drop Outliers"
      ],
      "metadata": {
        "id": "x1dXUZn63gIa"
      }
    },
    {
      "cell_type": "code",
      "source": [
        "# remove outliers\n",
        "outliers_removed = [data for data in airbnb['price'] if data > lower and data < upper]"
      ],
      "metadata": {
        "id": "4yoovv0p3bAm"
      },
      "execution_count": 22,
      "outputs": []
    },
    {
      "cell_type": "markdown",
      "source": [
        "outliers_removed is the array which contains prices without outliers. We can now assign this array of new values to the airbnb dataframe price column, by first converting it into Series by using pd.Series()."
      ],
      "metadata": {
        "id": "Ur_QEdo2x198"
      }
    },
    {
      "cell_type": "code",
      "source": [
        "airbnb['price'] = pd.Series(outliers_removed)"
      ],
      "metadata": {
        "id": "3dDTsIfMwj24"
      },
      "execution_count": 23,
      "outputs": []
    },
    {
      "cell_type": "markdown",
      "source": [
        "Let's look at the plot of `price` again and analyze the distribution of the values."
      ],
      "metadata": {
        "id": "0FvVoePQyPSk"
      }
    },
    {
      "cell_type": "code",
      "source": [
        "plt.figure(figsize=(10, 6))\n",
        "airbnb['price'].hist(bins=100)"
      ],
      "metadata": {
        "colab": {
          "base_uri": "https://localhost:8080/",
          "height": 391
        },
        "id": "HAu3jMz8xf6S",
        "outputId": "b4bb1658-b625-44c8-b9d7-05f721f970c5"
      },
      "execution_count": 24,
      "outputs": [
        {
          "output_type": "execute_result",
          "data": {
            "text/plain": [
              "<matplotlib.axes._subplots.AxesSubplot at 0x7f5071932910>"
            ]
          },
          "metadata": {},
          "execution_count": 24
        },
        {
          "output_type": "display_data",
          "data": {
            "image/png": "[encoded data removed]",
            "text/plain": [
              "<Figure size 720x432 with 1 Axes>"
            ]
          },
          "metadata": {
            "needs_background": "light"
          }
        }
      ]
    },
    {
      "cell_type": "markdown",
      "source": [
        "As we can see the plot above, we can draw a comparision between first plot (without removing outliers) and the one above. We see that the bars are fairly distributed across different price values instead of being scattered to just one value."
      ],
      "metadata": {
        "id": "ieQhTwEcyYNO"
      }
    },
    {
      "cell_type": "markdown",
      "source": [
        "Reference: https://medium.com/bitgrit-data-science-publication/data-cleaning-with-python-f6bc3da64e45"
      ],
      "metadata": {
        "id": "2J_u-lz9CsId"
      }
    }
  ]
}